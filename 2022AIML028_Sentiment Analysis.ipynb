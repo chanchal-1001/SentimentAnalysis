{
 "cells": [
  {
   "cell_type": "markdown",
   "id": "b0d2bd18-d31d-47af-9847-4e06084381a5",
   "metadata": {
    "tags": []
   },
   "source": [
    "### Name :  Chanchal Sahu\n",
    "### RollNo : 2022AIML028\n",
    "### Assignment : Sentiment Analysis"
   ]
  },
  {
   "cell_type": "code",
   "execution_count": 1,
   "id": "6eefcddf-6229-4255-b4bc-29aa84d85753",
   "metadata": {},
   "outputs": [],
   "source": [
    "import numpy as np\n",
    "import pandas as pd\n",
    "import re\n",
    "import matplotlib.pyplot as plt\n",
    "import seaborn as sns\n",
    "from sklearn.naive_bayes import MultinomialNB\n",
    "from sklearn.model_selection import train_test_split\n",
    "from sklearn.metrics import accuracy_score, confusion_matrix, classification_report\n",
    "import nltk\n",
    "from sklearn.naive_bayes import GaussianNB\n",
    "\n",
    "# import pipeline, CountVectorizer, TfidfTransformer, GridSearchCV\n",
    "from sklearn.pipeline import Pipeline\n",
    "from sklearn.feature_extraction.text import CountVectorizer\n",
    "from sklearn.feature_extraction.text import TfidfTransformer\n",
    "from sklearn.model_selection import GridSearchCV\n",
    "\n",
    "from nltk.stem import WordNetLemmatizer"
   ]
  },
  {
   "cell_type": "code",
   "execution_count": 2,
   "id": "2d028db4-176b-41f7-90f1-edaf0ea94545",
   "metadata": {},
   "outputs": [],
   "source": [
    "df =  pd.read_csv(\"Tweets.csv\")"
   ]
  },
  {
   "cell_type": "code",
   "execution_count": 3,
   "id": "ce133ad7-7976-4ca8-ad65-ab4cc1b9303a",
   "metadata": {
    "tags": []
   },
   "outputs": [
    {
     "data": {
      "text/plain": [
       "Index(['tweet_id', 'airline_sentiment', 'airline_sentiment_confidence',\n",
       "       'negativereason', 'negativereason_confidence', 'airline',\n",
       "       'airline_sentiment_gold', 'name', 'negativereason_gold',\n",
       "       'retweet_count', 'text', 'tweet_coord', 'tweet_created',\n",
       "       'tweet_location', 'user_timezone'],\n",
       "      dtype='object')"
      ]
     },
     "execution_count": 3,
     "metadata": {},
     "output_type": "execute_result"
    }
   ],
   "source": [
    "df.columns"
   ]
  },
  {
   "cell_type": "code",
   "execution_count": 4,
   "id": "b9cac8d3-e7da-4b1c-898c-af2d7874d84d",
   "metadata": {},
   "outputs": [],
   "source": [
    "df = df[['text', 'airline_sentiment', 'airline_sentiment_confidence']]"
   ]
  },
  {
   "cell_type": "markdown",
   "id": "5b3a00f9-0d21-4dd9-9470-b61e806c0978",
   "metadata": {},
   "source": [
    "### 1. Load the dataset into appropriate data structure, perform 75:25 split between train and test data. "
   ]
  },
  {
   "cell_type": "markdown",
   "id": "ad3d5780-483a-4d39-86da-ee8e25bf9f6d",
   "metadata": {},
   "source": [
    "##### Text processing for the tweets"
   ]
  },
  {
   "cell_type": "code",
   "execution_count": 5,
   "id": "f11202ba-1755-4ed6-87ef-9cd07336c22c",
   "metadata": {},
   "outputs": [],
   "source": [
    "from nltk.tokenize import word_tokenize\n",
    "from string import punctuation \n",
    "from nltk.corpus import stopwords \n",
    "\n",
    "stopwords = set(stopwords.words('english') + list(punctuation) + ['AT_USER','URL'])\n",
    " \n",
    "def remove_stopwords(tweet):\n",
    "    # use work_tokenize imported above to tokenize the tweet \n",
    "    tweet = word_tokenize(tweet)\n",
    "    \n",
    "    return  ' '.join([word for word in tweet if word not in stopwords])\n",
    "\n",
    "\n",
    "def processTweet(data,name):\n",
    "    \n",
    "    # Proprocessing the data\n",
    "    data[name]=data[name].str.lower()\n",
    "    # Code to remove the Hashtags from the text\n",
    "    data[name]=data[name].apply(lambda x:re.sub(r'\\B#\\S+','',x))\n",
    "    # Code to remove the links from the text\n",
    "    data[name]=data[name].apply(lambda x:re.sub(r\"http\\S+\", \"\", x))    \n",
    "     # Remove the twitter handlers\n",
    "    data[name]=data[name].apply(lambda x:re.sub('@[^\\s]+','',x))\n",
    "    # Code to remove all the single characters in the text\n",
    "    data[name]=data[name].apply(lambda x:re.sub(r'\\s+[a-zA-Z]\\s+', ' ', x))\n",
    "    # Code to substitute the multiple spaces with single spaces\n",
    "    data[name]=data[name].apply(lambda x:re.sub(r'\\s+', ' ', x, flags=re.I))   \n",
    "    # Code to remove the Special characters from the text \n",
    "    data[name]=data[name].apply(lambda x:' '.join(re.findall(r'\\w+', x)))"
   ]
  },
  {
   "cell_type": "code",
   "execution_count": 6,
   "id": "4312d91b-da69-4788-b169-9b61e1a2ba10",
   "metadata": {},
   "outputs": [],
   "source": [
    "processed=[]\n",
    "new_df = df.copy()\n",
    "#processing the tweets\n",
    "processTweet(new_df, 'text')\n",
    "for tweet in new_df['text']:\n",
    "    # Remove stop words\n",
    "    cleaned = remove_stopwords(tweet)\n",
    "    processed.append(cleaned)\n",
    "\n",
    "df['processed_text']=processed"
   ]
  },
  {
   "cell_type": "code",
   "execution_count": 7,
   "id": "dedfe9cb-9658-4e01-a4e8-496b85fc6084",
   "metadata": {},
   "outputs": [
    {
     "data": {
      "text/html": [
       "<div>\n",
       "<style scoped>\n",
       "    .dataframe tbody tr th:only-of-type {\n",
       "        vertical-align: middle;\n",
       "    }\n",
       "\n",
       "    .dataframe tbody tr th {\n",
       "        vertical-align: top;\n",
       "    }\n",
       "\n",
       "    .dataframe thead th {\n",
       "        text-align: right;\n",
       "    }\n",
       "</style>\n",
       "<table border=\"1\" class=\"dataframe\">\n",
       "  <thead>\n",
       "    <tr style=\"text-align: right;\">\n",
       "      <th></th>\n",
       "      <th>text</th>\n",
       "      <th>airline_sentiment</th>\n",
       "      <th>airline_sentiment_confidence</th>\n",
       "      <th>processed_text</th>\n",
       "    </tr>\n",
       "  </thead>\n",
       "  <tbody>\n",
       "    <tr>\n",
       "      <th>0</th>\n",
       "      <td>@VirginAmerica What @dhepburn said.</td>\n",
       "      <td>neutral</td>\n",
       "      <td>1.0000</td>\n",
       "      <td>said</td>\n",
       "    </tr>\n",
       "    <tr>\n",
       "      <th>1</th>\n",
       "      <td>@VirginAmerica plus you've added commercials t...</td>\n",
       "      <td>positive</td>\n",
       "      <td>0.3486</td>\n",
       "      <td>plus added commercials experience tacky</td>\n",
       "    </tr>\n",
       "    <tr>\n",
       "      <th>2</th>\n",
       "      <td>@VirginAmerica I didn't today... Must mean I n...</td>\n",
       "      <td>neutral</td>\n",
       "      <td>0.6837</td>\n",
       "      <td>today must mean need take another trip</td>\n",
       "    </tr>\n",
       "    <tr>\n",
       "      <th>3</th>\n",
       "      <td>@VirginAmerica it's really aggressive to blast...</td>\n",
       "      <td>negative</td>\n",
       "      <td>1.0000</td>\n",
       "      <td>really aggressive blast obnoxious entertainmen...</td>\n",
       "    </tr>\n",
       "    <tr>\n",
       "      <th>4</th>\n",
       "      <td>@VirginAmerica and it's a really big bad thing...</td>\n",
       "      <td>negative</td>\n",
       "      <td>1.0000</td>\n",
       "      <td>really big bad thing</td>\n",
       "    </tr>\n",
       "    <tr>\n",
       "      <th>...</th>\n",
       "      <td>...</td>\n",
       "      <td>...</td>\n",
       "      <td>...</td>\n",
       "      <td>...</td>\n",
       "    </tr>\n",
       "    <tr>\n",
       "      <th>14635</th>\n",
       "      <td>@AmericanAir thank you we got on a different f...</td>\n",
       "      <td>positive</td>\n",
       "      <td>0.3487</td>\n",
       "      <td>thank got different flight chicago</td>\n",
       "    </tr>\n",
       "    <tr>\n",
       "      <th>14636</th>\n",
       "      <td>@AmericanAir leaving over 20 minutes Late Flig...</td>\n",
       "      <td>negative</td>\n",
       "      <td>1.0000</td>\n",
       "      <td>leaving 20 minutes late flight warnings commun...</td>\n",
       "    </tr>\n",
       "    <tr>\n",
       "      <th>14637</th>\n",
       "      <td>@AmericanAir Please bring American Airlines to...</td>\n",
       "      <td>neutral</td>\n",
       "      <td>1.0000</td>\n",
       "      <td>please bring american airlines</td>\n",
       "    </tr>\n",
       "    <tr>\n",
       "      <th>14638</th>\n",
       "      <td>@AmericanAir you have my money, you change my ...</td>\n",
       "      <td>negative</td>\n",
       "      <td>1.0000</td>\n",
       "      <td>money change flight answer phones suggestions ...</td>\n",
       "    </tr>\n",
       "    <tr>\n",
       "      <th>14639</th>\n",
       "      <td>@AmericanAir we have 8 ppl so we need 2 know h...</td>\n",
       "      <td>neutral</td>\n",
       "      <td>0.6771</td>\n",
       "      <td>8 ppl need 2 know many seats next flight plz p...</td>\n",
       "    </tr>\n",
       "  </tbody>\n",
       "</table>\n",
       "<p>14640 rows × 4 columns</p>\n",
       "</div>"
      ],
      "text/plain": [
       "                                                    text airline_sentiment  \\\n",
       "0                    @VirginAmerica What @dhepburn said.           neutral   \n",
       "1      @VirginAmerica plus you've added commercials t...          positive   \n",
       "2      @VirginAmerica I didn't today... Must mean I n...           neutral   \n",
       "3      @VirginAmerica it's really aggressive to blast...          negative   \n",
       "4      @VirginAmerica and it's a really big bad thing...          negative   \n",
       "...                                                  ...               ...   \n",
       "14635  @AmericanAir thank you we got on a different f...          positive   \n",
       "14636  @AmericanAir leaving over 20 minutes Late Flig...          negative   \n",
       "14637  @AmericanAir Please bring American Airlines to...           neutral   \n",
       "14638  @AmericanAir you have my money, you change my ...          negative   \n",
       "14639  @AmericanAir we have 8 ppl so we need 2 know h...           neutral   \n",
       "\n",
       "       airline_sentiment_confidence  \\\n",
       "0                            1.0000   \n",
       "1                            0.3486   \n",
       "2                            0.6837   \n",
       "3                            1.0000   \n",
       "4                            1.0000   \n",
       "...                             ...   \n",
       "14635                        0.3487   \n",
       "14636                        1.0000   \n",
       "14637                        1.0000   \n",
       "14638                        1.0000   \n",
       "14639                        0.6771   \n",
       "\n",
       "                                          processed_text  \n",
       "0                                                   said  \n",
       "1                plus added commercials experience tacky  \n",
       "2                 today must mean need take another trip  \n",
       "3      really aggressive blast obnoxious entertainmen...  \n",
       "4                                   really big bad thing  \n",
       "...                                                  ...  \n",
       "14635                 thank got different flight chicago  \n",
       "14636  leaving 20 minutes late flight warnings commun...  \n",
       "14637                     please bring american airlines  \n",
       "14638  money change flight answer phones suggestions ...  \n",
       "14639  8 ppl need 2 know many seats next flight plz p...  \n",
       "\n",
       "[14640 rows x 4 columns]"
      ]
     },
     "execution_count": 7,
     "metadata": {},
     "output_type": "execute_result"
    }
   ],
   "source": [
    "df"
   ]
  },
  {
   "cell_type": "markdown",
   "id": "ddf442c6-ef7d-4d3a-b6e8-f17329256ed7",
   "metadata": {},
   "source": [
    "##### Lemmatization Function"
   ]
  },
  {
   "cell_type": "raw",
   "id": "46d328da-e0b1-4615-898e-c7e2dbe29e26",
   "metadata": {},
   "source": [
    "import nltk\n",
    "nltk.download('omw-1.4')"
   ]
  },
  {
   "cell_type": "code",
   "execution_count": 8,
   "id": "3f42da2a-7206-4f9d-94b2-1fed29a5f62b",
   "metadata": {},
   "outputs": [],
   "source": [
    "lemmatizer = WordNetLemmatizer()\n",
    "def Lemmatization(data,name):\n",
    "    def getting2(sen):\n",
    "        \n",
    "        example = sen\n",
    "        output_sentence =[]\n",
    "        word_tokens2 = word_tokenize(example)\n",
    "        lemmatized_output = [lemmatizer.lemmatize(w) for w in word_tokens2]\n",
    "        \n",
    "        # Remove characters which have length less than 2  \n",
    "        without_single_chr = [word for word in lemmatized_output if len(word) > 2]\n",
    "        # Remove numbers\n",
    "        cleaned_data_title = ' '.join([word for word in without_single_chr if not word.isnumeric()])\n",
    "        \n",
    "        return cleaned_data_title\n",
    "    # Using \"getting2(sen)\" function to append edited sentence to data\n",
    "    x=[]\n",
    "    for i in data[name].values:\n",
    "        x.append(getting2(i))\n",
    "    data[name]=x"
   ]
  },
  {
   "cell_type": "raw",
   "id": "31d464c6-0a96-4f01-ba94-46f43481c35b",
   "metadata": {},
   "source": [
    "from nltk.stem import WordNetLemmatizer\n",
    "\n",
    "# Create a lemmatizer object\n",
    "lemmatizer = WordNetLemmatizer()\n",
    "\n",
    "# Lemmatize the word \"thanks\"\n",
    "lemma = lemmatizer.lemmatize(\"improvement\")\n",
    "\n",
    "# Print the result\n",
    "print(\"Lemma:\", lemma)"
   ]
  },
  {
   "cell_type": "code",
   "execution_count": 9,
   "id": "226c0d54-5bf9-4c16-aea1-ef76e006e10f",
   "metadata": {},
   "outputs": [],
   "source": [
    "Lemmatization(df, 'processed_text')"
   ]
  },
  {
   "cell_type": "code",
   "execution_count": 10,
   "id": "574abf40-e7b2-4d3e-b24c-321c5b2ef38a",
   "metadata": {},
   "outputs": [],
   "source": [
    "#Final processed tweets\n",
    "corpus = df['processed_text']"
   ]
  },
  {
   "cell_type": "markdown",
   "id": "62c31175-43be-4afd-af65-39628a86d75a",
   "metadata": {},
   "source": [
    "##### Perform 75:25 split between train and test data"
   ]
  },
  {
   "cell_type": "code",
   "execution_count": 11,
   "id": "607ea579-7b5e-49f7-84b3-73578dbbbc83",
   "metadata": {},
   "outputs": [],
   "source": [
    "# split data into train and test with split as 0.2 \n",
    "\n",
    "X, y = df.processed_text, df.airline_sentiment\n",
    "X_train, X_test, y_train, y_test = train_test_split(X, y, test_size=0.25, random_state=42)"
   ]
  },
  {
   "cell_type": "code",
   "execution_count": 12,
   "id": "3c93e716-86f1-4cba-9ff3-77658ee1105c",
   "metadata": {},
   "outputs": [
    {
     "name": "stdout",
     "output_type": "stream",
     "text": [
      "(10980,)   (3660,)\n"
     ]
    }
   ],
   "source": [
    "print(X_train.shape , \" \", X_test.shape)"
   ]
  },
  {
   "cell_type": "markdown",
   "id": "b1a2ce23-ea0d-4947-a4c0-96033ea70649",
   "metadata": {},
   "source": [
    "### 2.Use BoW and TF-IDF based feature extraction approaches on ‘text’ field of the dataset."
   ]
  },
  {
   "cell_type": "markdown",
   "id": "0b3efddc-5e05-4131-89fd-77b221f9f6d0",
   "metadata": {},
   "source": [
    "#### TF_IDF for Feature Extraction"
   ]
  },
  {
   "cell_type": "code",
   "execution_count": 13,
   "id": "3363be8d-f50e-4d2b-8c4f-2c2a4ffdbbab",
   "metadata": {},
   "outputs": [],
   "source": [
    "from sklearn.feature_extraction.text import TfidfVectorizer"
   ]
  },
  {
   "cell_type": "code",
   "execution_count": 14,
   "id": "ddc3dff8-7f40-4055-ba8a-65462ec94af9",
   "metadata": {},
   "outputs": [],
   "source": [
    "def get_tfidf_top_features(documents,n_top):\n",
    "    tfidf_vectorizer = TfidfVectorizer(max_df=0.95, min_df=2, tokenizer=word_tokenize, stop_words='english')\n",
    "    tfidf = tfidf_vectorizer.fit_transform(documents)\n",
    "    importance = np.argsort(np.asarray(tfidf.sum(axis=0)).ravel())[::-1]\n",
    "    tfidf_feature_names = np.array(tfidf_vectorizer.get_feature_names())\n",
    "    return tfidf_feature_names[importance[:n_top]]"
   ]
  },
  {
   "cell_type": "markdown",
   "id": "ec7af020-d1e4-4d47-87c8-36c73fd067ea",
   "metadata": {},
   "source": [
    "##### Printing top 10 Feature names found in tweets using TF-IDF"
   ]
  },
  {
   "cell_type": "code",
   "execution_count": 15,
   "id": "2316eb57-c578-4859-9245-6faf42a895c1",
   "metadata": {},
   "outputs": [
    {
     "name": "stderr",
     "output_type": "stream",
     "text": [
      "C:\\Users\\chanc\\anaconda3\\lib\\site-packages\\sklearn\\utils\\deprecation.py:87: FutureWarning: Function get_feature_names is deprecated; get_feature_names is deprecated in 1.0 and will be removed in 1.2. Please use get_feature_names_out instead.\n",
      "  warnings.warn(msg, category=FutureWarning)\n"
     ]
    },
    {
     "data": {
      "text/plain": [
       "['flight',\n",
       " 'thanks',\n",
       " 'hour',\n",
       " 'thank',\n",
       " 'cancelled',\n",
       " 'service',\n",
       " 'time',\n",
       " 'help',\n",
       " 'customer',\n",
       " 'hold']"
      ]
     },
     "execution_count": 15,
     "metadata": {},
     "output_type": "execute_result"
    }
   ],
   "source": [
    "list(get_tfidf_top_features(corpus, 10))"
   ]
  },
  {
   "cell_type": "markdown",
   "id": "8748ed11-df8b-49cf-91a8-27248caa35ff",
   "metadata": {},
   "source": [
    "#### BoW for Feature Extraction"
   ]
  },
  {
   "cell_type": "code",
   "execution_count": 16,
   "id": "3d584163-8543-479c-826a-b2458a9acc3d",
   "metadata": {},
   "outputs": [],
   "source": [
    "\n",
    "def get_bag_of_words_top_features(corpus, n_top):\n",
    "    \n",
    "    countVec = CountVectorizer(ngram_range=(1,1), # to use bigrams ngram_range=(2,2)\n",
    "                               stop_words='english')\n",
    "    #transform\n",
    "    count_data = countVec.fit_transform(corpus)\n",
    "\n",
    "    importance = np.argsort(np.asarray(count_data.sum(axis=0)).ravel())[::-1]\n",
    "    \n",
    "    countVec_feature_names = np.array(countVec.get_feature_names())\n",
    "    \n",
    "    n_top_feature_names= countVec_feature_names[importance[:n_top]]\n",
    "    \n",
    "    #create dataframe\n",
    "    cv_dataframe=pd.DataFrame(count_data.toarray(),columns=countVec.get_feature_names())\n",
    "    # Dropping the columns containing numbers in column name\n",
    "    drop_columns = []\n",
    "    for i in cv_dataframe.columns:\n",
    "        if bool(re.search(r'\\d', i)):\n",
    "            drop_columns.append(i)\n",
    "\n",
    "    cv_dataframe = cv_dataframe.drop(drop_columns, axis=1)    \n",
    "\n",
    "    return n_top_feature_names, cv_dataframe\n",
    "    \n",
    "    \n"
   ]
  },
  {
   "cell_type": "code",
   "execution_count": 17,
   "id": "305b8da4-f241-4406-a223-f1f90941dbdc",
   "metadata": {},
   "outputs": [],
   "source": [
    "n_top = 10\n",
    "n_top_feature_names, bow_count_vector_df =  get_bag_of_words_top_features(corpus,n_top)"
   ]
  },
  {
   "cell_type": "code",
   "execution_count": 18,
   "id": "fc85a98e-b34b-4f69-8346-b50c26c8f3c9",
   "metadata": {},
   "outputs": [
    {
     "data": {
      "text/html": [
       "<div>\n",
       "<style scoped>\n",
       "    .dataframe tbody tr th:only-of-type {\n",
       "        vertical-align: middle;\n",
       "    }\n",
       "\n",
       "    .dataframe tbody tr th {\n",
       "        vertical-align: top;\n",
       "    }\n",
       "\n",
       "    .dataframe thead th {\n",
       "        text-align: right;\n",
       "    }\n",
       "</style>\n",
       "<table border=\"1\" class=\"dataframe\">\n",
       "  <thead>\n",
       "    <tr style=\"text-align: right;\">\n",
       "      <th></th>\n",
       "      <th>_exact_</th>\n",
       "      <th>aaaand</th>\n",
       "      <th>aadavantage</th>\n",
       "      <th>aadv</th>\n",
       "      <th>aadvantage</th>\n",
       "      <th>aal</th>\n",
       "      <th>aaron</th>\n",
       "      <th>aback</th>\n",
       "      <th>abandon</th>\n",
       "      <th>abandoned</th>\n",
       "      <th>...</th>\n",
       "      <th>zagging</th>\n",
       "      <th>zambia</th>\n",
       "      <th>zero</th>\n",
       "      <th>zig</th>\n",
       "      <th>zip</th>\n",
       "      <th>zipper</th>\n",
       "      <th>zone</th>\n",
       "      <th>zoom</th>\n",
       "      <th>zukes</th>\n",
       "      <th>zurich</th>\n",
       "    </tr>\n",
       "  </thead>\n",
       "  <tbody>\n",
       "    <tr>\n",
       "      <th>0</th>\n",
       "      <td>0</td>\n",
       "      <td>0</td>\n",
       "      <td>0</td>\n",
       "      <td>0</td>\n",
       "      <td>0</td>\n",
       "      <td>0</td>\n",
       "      <td>0</td>\n",
       "      <td>0</td>\n",
       "      <td>0</td>\n",
       "      <td>0</td>\n",
       "      <td>...</td>\n",
       "      <td>0</td>\n",
       "      <td>0</td>\n",
       "      <td>0</td>\n",
       "      <td>0</td>\n",
       "      <td>0</td>\n",
       "      <td>0</td>\n",
       "      <td>0</td>\n",
       "      <td>0</td>\n",
       "      <td>0</td>\n",
       "      <td>0</td>\n",
       "    </tr>\n",
       "    <tr>\n",
       "      <th>1</th>\n",
       "      <td>0</td>\n",
       "      <td>0</td>\n",
       "      <td>0</td>\n",
       "      <td>0</td>\n",
       "      <td>0</td>\n",
       "      <td>0</td>\n",
       "      <td>0</td>\n",
       "      <td>0</td>\n",
       "      <td>0</td>\n",
       "      <td>0</td>\n",
       "      <td>...</td>\n",
       "      <td>0</td>\n",
       "      <td>0</td>\n",
       "      <td>0</td>\n",
       "      <td>0</td>\n",
       "      <td>0</td>\n",
       "      <td>0</td>\n",
       "      <td>0</td>\n",
       "      <td>0</td>\n",
       "      <td>0</td>\n",
       "      <td>0</td>\n",
       "    </tr>\n",
       "    <tr>\n",
       "      <th>2</th>\n",
       "      <td>0</td>\n",
       "      <td>0</td>\n",
       "      <td>0</td>\n",
       "      <td>0</td>\n",
       "      <td>0</td>\n",
       "      <td>0</td>\n",
       "      <td>0</td>\n",
       "      <td>0</td>\n",
       "      <td>0</td>\n",
       "      <td>0</td>\n",
       "      <td>...</td>\n",
       "      <td>0</td>\n",
       "      <td>0</td>\n",
       "      <td>0</td>\n",
       "      <td>0</td>\n",
       "      <td>0</td>\n",
       "      <td>0</td>\n",
       "      <td>0</td>\n",
       "      <td>0</td>\n",
       "      <td>0</td>\n",
       "      <td>0</td>\n",
       "    </tr>\n",
       "    <tr>\n",
       "      <th>3</th>\n",
       "      <td>0</td>\n",
       "      <td>0</td>\n",
       "      <td>0</td>\n",
       "      <td>0</td>\n",
       "      <td>0</td>\n",
       "      <td>0</td>\n",
       "      <td>0</td>\n",
       "      <td>0</td>\n",
       "      <td>0</td>\n",
       "      <td>0</td>\n",
       "      <td>...</td>\n",
       "      <td>0</td>\n",
       "      <td>0</td>\n",
       "      <td>0</td>\n",
       "      <td>0</td>\n",
       "      <td>0</td>\n",
       "      <td>0</td>\n",
       "      <td>0</td>\n",
       "      <td>0</td>\n",
       "      <td>0</td>\n",
       "      <td>0</td>\n",
       "    </tr>\n",
       "    <tr>\n",
       "      <th>4</th>\n",
       "      <td>0</td>\n",
       "      <td>0</td>\n",
       "      <td>0</td>\n",
       "      <td>0</td>\n",
       "      <td>0</td>\n",
       "      <td>0</td>\n",
       "      <td>0</td>\n",
       "      <td>0</td>\n",
       "      <td>0</td>\n",
       "      <td>0</td>\n",
       "      <td>...</td>\n",
       "      <td>0</td>\n",
       "      <td>0</td>\n",
       "      <td>0</td>\n",
       "      <td>0</td>\n",
       "      <td>0</td>\n",
       "      <td>0</td>\n",
       "      <td>0</td>\n",
       "      <td>0</td>\n",
       "      <td>0</td>\n",
       "      <td>0</td>\n",
       "    </tr>\n",
       "    <tr>\n",
       "      <th>...</th>\n",
       "      <td>...</td>\n",
       "      <td>...</td>\n",
       "      <td>...</td>\n",
       "      <td>...</td>\n",
       "      <td>...</td>\n",
       "      <td>...</td>\n",
       "      <td>...</td>\n",
       "      <td>...</td>\n",
       "      <td>...</td>\n",
       "      <td>...</td>\n",
       "      <td>...</td>\n",
       "      <td>...</td>\n",
       "      <td>...</td>\n",
       "      <td>...</td>\n",
       "      <td>...</td>\n",
       "      <td>...</td>\n",
       "      <td>...</td>\n",
       "      <td>...</td>\n",
       "      <td>...</td>\n",
       "      <td>...</td>\n",
       "      <td>...</td>\n",
       "    </tr>\n",
       "    <tr>\n",
       "      <th>14635</th>\n",
       "      <td>0</td>\n",
       "      <td>0</td>\n",
       "      <td>0</td>\n",
       "      <td>0</td>\n",
       "      <td>0</td>\n",
       "      <td>0</td>\n",
       "      <td>0</td>\n",
       "      <td>0</td>\n",
       "      <td>0</td>\n",
       "      <td>0</td>\n",
       "      <td>...</td>\n",
       "      <td>0</td>\n",
       "      <td>0</td>\n",
       "      <td>0</td>\n",
       "      <td>0</td>\n",
       "      <td>0</td>\n",
       "      <td>0</td>\n",
       "      <td>0</td>\n",
       "      <td>0</td>\n",
       "      <td>0</td>\n",
       "      <td>0</td>\n",
       "    </tr>\n",
       "    <tr>\n",
       "      <th>14636</th>\n",
       "      <td>0</td>\n",
       "      <td>0</td>\n",
       "      <td>0</td>\n",
       "      <td>0</td>\n",
       "      <td>0</td>\n",
       "      <td>0</td>\n",
       "      <td>0</td>\n",
       "      <td>0</td>\n",
       "      <td>0</td>\n",
       "      <td>0</td>\n",
       "      <td>...</td>\n",
       "      <td>0</td>\n",
       "      <td>0</td>\n",
       "      <td>0</td>\n",
       "      <td>0</td>\n",
       "      <td>0</td>\n",
       "      <td>0</td>\n",
       "      <td>0</td>\n",
       "      <td>0</td>\n",
       "      <td>0</td>\n",
       "      <td>0</td>\n",
       "    </tr>\n",
       "    <tr>\n",
       "      <th>14637</th>\n",
       "      <td>0</td>\n",
       "      <td>0</td>\n",
       "      <td>0</td>\n",
       "      <td>0</td>\n",
       "      <td>0</td>\n",
       "      <td>0</td>\n",
       "      <td>0</td>\n",
       "      <td>0</td>\n",
       "      <td>0</td>\n",
       "      <td>0</td>\n",
       "      <td>...</td>\n",
       "      <td>0</td>\n",
       "      <td>0</td>\n",
       "      <td>0</td>\n",
       "      <td>0</td>\n",
       "      <td>0</td>\n",
       "      <td>0</td>\n",
       "      <td>0</td>\n",
       "      <td>0</td>\n",
       "      <td>0</td>\n",
       "      <td>0</td>\n",
       "    </tr>\n",
       "    <tr>\n",
       "      <th>14638</th>\n",
       "      <td>0</td>\n",
       "      <td>0</td>\n",
       "      <td>0</td>\n",
       "      <td>0</td>\n",
       "      <td>0</td>\n",
       "      <td>0</td>\n",
       "      <td>0</td>\n",
       "      <td>0</td>\n",
       "      <td>0</td>\n",
       "      <td>0</td>\n",
       "      <td>...</td>\n",
       "      <td>0</td>\n",
       "      <td>0</td>\n",
       "      <td>0</td>\n",
       "      <td>0</td>\n",
       "      <td>0</td>\n",
       "      <td>0</td>\n",
       "      <td>0</td>\n",
       "      <td>0</td>\n",
       "      <td>0</td>\n",
       "      <td>0</td>\n",
       "    </tr>\n",
       "    <tr>\n",
       "      <th>14639</th>\n",
       "      <td>0</td>\n",
       "      <td>0</td>\n",
       "      <td>0</td>\n",
       "      <td>0</td>\n",
       "      <td>0</td>\n",
       "      <td>0</td>\n",
       "      <td>0</td>\n",
       "      <td>0</td>\n",
       "      <td>0</td>\n",
       "      <td>0</td>\n",
       "      <td>...</td>\n",
       "      <td>0</td>\n",
       "      <td>0</td>\n",
       "      <td>0</td>\n",
       "      <td>0</td>\n",
       "      <td>0</td>\n",
       "      <td>0</td>\n",
       "      <td>0</td>\n",
       "      <td>0</td>\n",
       "      <td>0</td>\n",
       "      <td>0</td>\n",
       "    </tr>\n",
       "  </tbody>\n",
       "</table>\n",
       "<p>14640 rows × 8329 columns</p>\n",
       "</div>"
      ],
      "text/plain": [
       "       _exact_  aaaand  aadavantage  aadv  aadvantage  aal  aaron  aback  \\\n",
       "0            0       0            0     0           0    0      0      0   \n",
       "1            0       0            0     0           0    0      0      0   \n",
       "2            0       0            0     0           0    0      0      0   \n",
       "3            0       0            0     0           0    0      0      0   \n",
       "4            0       0            0     0           0    0      0      0   \n",
       "...        ...     ...          ...   ...         ...  ...    ...    ...   \n",
       "14635        0       0            0     0           0    0      0      0   \n",
       "14636        0       0            0     0           0    0      0      0   \n",
       "14637        0       0            0     0           0    0      0      0   \n",
       "14638        0       0            0     0           0    0      0      0   \n",
       "14639        0       0            0     0           0    0      0      0   \n",
       "\n",
       "       abandon  abandoned  ...  zagging  zambia  zero  zig  zip  zipper  zone  \\\n",
       "0            0          0  ...        0       0     0    0    0       0     0   \n",
       "1            0          0  ...        0       0     0    0    0       0     0   \n",
       "2            0          0  ...        0       0     0    0    0       0     0   \n",
       "3            0          0  ...        0       0     0    0    0       0     0   \n",
       "4            0          0  ...        0       0     0    0    0       0     0   \n",
       "...        ...        ...  ...      ...     ...   ...  ...  ...     ...   ...   \n",
       "14635        0          0  ...        0       0     0    0    0       0     0   \n",
       "14636        0          0  ...        0       0     0    0    0       0     0   \n",
       "14637        0          0  ...        0       0     0    0    0       0     0   \n",
       "14638        0          0  ...        0       0     0    0    0       0     0   \n",
       "14639        0          0  ...        0       0     0    0    0       0     0   \n",
       "\n",
       "       zoom  zukes  zurich  \n",
       "0         0      0       0  \n",
       "1         0      0       0  \n",
       "2         0      0       0  \n",
       "3         0      0       0  \n",
       "4         0      0       0  \n",
       "...     ...    ...     ...  \n",
       "14635     0      0       0  \n",
       "14636     0      0       0  \n",
       "14637     0      0       0  \n",
       "14638     0      0       0  \n",
       "14639     0      0       0  \n",
       "\n",
       "[14640 rows x 8329 columns]"
      ]
     },
     "execution_count": 18,
     "metadata": {},
     "output_type": "execute_result"
    }
   ],
   "source": [
    "bow_count_vector_df"
   ]
  },
  {
   "cell_type": "markdown",
   "id": "d34ec396-ba9a-4ff5-befb-1339331f7382",
   "metadata": {},
   "source": [
    "##### Printing top 10 Feature names found in tweets using BOG"
   ]
  },
  {
   "cell_type": "code",
   "execution_count": 19,
   "id": "0779394b-a3cd-4a5c-8613-ce641206b93f",
   "metadata": {},
   "outputs": [
    {
     "data": {
      "text/plain": [
       "['flight',\n",
       " 'hour',\n",
       " 'thanks',\n",
       " 'cancelled',\n",
       " 'service',\n",
       " 'time',\n",
       " 'customer',\n",
       " 'help',\n",
       " 'bag',\n",
       " 'plane']"
      ]
     },
     "execution_count": 19,
     "metadata": {},
     "output_type": "execute_result"
    }
   ],
   "source": [
    "list(n_top_feature_names)"
   ]
  },
  {
   "cell_type": "code",
   "execution_count": 20,
   "id": "6ad27a01-67b3-48c1-bbf2-5d1ffb93e33a",
   "metadata": {},
   "outputs": [
    {
     "data": {
      "text/html": [
       "<div>\n",
       "<style scoped>\n",
       "    .dataframe tbody tr th:only-of-type {\n",
       "        vertical-align: middle;\n",
       "    }\n",
       "\n",
       "    .dataframe tbody tr th {\n",
       "        vertical-align: top;\n",
       "    }\n",
       "\n",
       "    .dataframe thead th {\n",
       "        text-align: right;\n",
       "    }\n",
       "</style>\n",
       "<table border=\"1\" class=\"dataframe\">\n",
       "  <thead>\n",
       "    <tr style=\"text-align: right;\">\n",
       "      <th></th>\n",
       "      <th>_exact_</th>\n",
       "      <th>aaaand</th>\n",
       "      <th>aadavantage</th>\n",
       "      <th>aadv</th>\n",
       "      <th>aadvantage</th>\n",
       "      <th>aal</th>\n",
       "      <th>aaron</th>\n",
       "      <th>aback</th>\n",
       "      <th>abandon</th>\n",
       "      <th>abandoned</th>\n",
       "      <th>...</th>\n",
       "      <th>zagging</th>\n",
       "      <th>zambia</th>\n",
       "      <th>zero</th>\n",
       "      <th>zig</th>\n",
       "      <th>zip</th>\n",
       "      <th>zipper</th>\n",
       "      <th>zone</th>\n",
       "      <th>zoom</th>\n",
       "      <th>zukes</th>\n",
       "      <th>zurich</th>\n",
       "    </tr>\n",
       "  </thead>\n",
       "  <tbody>\n",
       "    <tr>\n",
       "      <th>0</th>\n",
       "      <td>0</td>\n",
       "      <td>0</td>\n",
       "      <td>0</td>\n",
       "      <td>0</td>\n",
       "      <td>0</td>\n",
       "      <td>0</td>\n",
       "      <td>0</td>\n",
       "      <td>0</td>\n",
       "      <td>0</td>\n",
       "      <td>0</td>\n",
       "      <td>...</td>\n",
       "      <td>0</td>\n",
       "      <td>0</td>\n",
       "      <td>0</td>\n",
       "      <td>0</td>\n",
       "      <td>0</td>\n",
       "      <td>0</td>\n",
       "      <td>0</td>\n",
       "      <td>0</td>\n",
       "      <td>0</td>\n",
       "      <td>0</td>\n",
       "    </tr>\n",
       "    <tr>\n",
       "      <th>1</th>\n",
       "      <td>0</td>\n",
       "      <td>0</td>\n",
       "      <td>0</td>\n",
       "      <td>0</td>\n",
       "      <td>0</td>\n",
       "      <td>0</td>\n",
       "      <td>0</td>\n",
       "      <td>0</td>\n",
       "      <td>0</td>\n",
       "      <td>0</td>\n",
       "      <td>...</td>\n",
       "      <td>0</td>\n",
       "      <td>0</td>\n",
       "      <td>0</td>\n",
       "      <td>0</td>\n",
       "      <td>0</td>\n",
       "      <td>0</td>\n",
       "      <td>0</td>\n",
       "      <td>0</td>\n",
       "      <td>0</td>\n",
       "      <td>0</td>\n",
       "    </tr>\n",
       "    <tr>\n",
       "      <th>2</th>\n",
       "      <td>0</td>\n",
       "      <td>0</td>\n",
       "      <td>0</td>\n",
       "      <td>0</td>\n",
       "      <td>0</td>\n",
       "      <td>0</td>\n",
       "      <td>0</td>\n",
       "      <td>0</td>\n",
       "      <td>0</td>\n",
       "      <td>0</td>\n",
       "      <td>...</td>\n",
       "      <td>0</td>\n",
       "      <td>0</td>\n",
       "      <td>0</td>\n",
       "      <td>0</td>\n",
       "      <td>0</td>\n",
       "      <td>0</td>\n",
       "      <td>0</td>\n",
       "      <td>0</td>\n",
       "      <td>0</td>\n",
       "      <td>0</td>\n",
       "    </tr>\n",
       "    <tr>\n",
       "      <th>3</th>\n",
       "      <td>0</td>\n",
       "      <td>0</td>\n",
       "      <td>0</td>\n",
       "      <td>0</td>\n",
       "      <td>0</td>\n",
       "      <td>0</td>\n",
       "      <td>0</td>\n",
       "      <td>0</td>\n",
       "      <td>0</td>\n",
       "      <td>0</td>\n",
       "      <td>...</td>\n",
       "      <td>0</td>\n",
       "      <td>0</td>\n",
       "      <td>0</td>\n",
       "      <td>0</td>\n",
       "      <td>0</td>\n",
       "      <td>0</td>\n",
       "      <td>0</td>\n",
       "      <td>0</td>\n",
       "      <td>0</td>\n",
       "      <td>0</td>\n",
       "    </tr>\n",
       "    <tr>\n",
       "      <th>4</th>\n",
       "      <td>0</td>\n",
       "      <td>0</td>\n",
       "      <td>0</td>\n",
       "      <td>0</td>\n",
       "      <td>0</td>\n",
       "      <td>0</td>\n",
       "      <td>0</td>\n",
       "      <td>0</td>\n",
       "      <td>0</td>\n",
       "      <td>0</td>\n",
       "      <td>...</td>\n",
       "      <td>0</td>\n",
       "      <td>0</td>\n",
       "      <td>0</td>\n",
       "      <td>0</td>\n",
       "      <td>0</td>\n",
       "      <td>0</td>\n",
       "      <td>0</td>\n",
       "      <td>0</td>\n",
       "      <td>0</td>\n",
       "      <td>0</td>\n",
       "    </tr>\n",
       "    <tr>\n",
       "      <th>...</th>\n",
       "      <td>...</td>\n",
       "      <td>...</td>\n",
       "      <td>...</td>\n",
       "      <td>...</td>\n",
       "      <td>...</td>\n",
       "      <td>...</td>\n",
       "      <td>...</td>\n",
       "      <td>...</td>\n",
       "      <td>...</td>\n",
       "      <td>...</td>\n",
       "      <td>...</td>\n",
       "      <td>...</td>\n",
       "      <td>...</td>\n",
       "      <td>...</td>\n",
       "      <td>...</td>\n",
       "      <td>...</td>\n",
       "      <td>...</td>\n",
       "      <td>...</td>\n",
       "      <td>...</td>\n",
       "      <td>...</td>\n",
       "      <td>...</td>\n",
       "    </tr>\n",
       "    <tr>\n",
       "      <th>14635</th>\n",
       "      <td>0</td>\n",
       "      <td>0</td>\n",
       "      <td>0</td>\n",
       "      <td>0</td>\n",
       "      <td>0</td>\n",
       "      <td>0</td>\n",
       "      <td>0</td>\n",
       "      <td>0</td>\n",
       "      <td>0</td>\n",
       "      <td>0</td>\n",
       "      <td>...</td>\n",
       "      <td>0</td>\n",
       "      <td>0</td>\n",
       "      <td>0</td>\n",
       "      <td>0</td>\n",
       "      <td>0</td>\n",
       "      <td>0</td>\n",
       "      <td>0</td>\n",
       "      <td>0</td>\n",
       "      <td>0</td>\n",
       "      <td>0</td>\n",
       "    </tr>\n",
       "    <tr>\n",
       "      <th>14636</th>\n",
       "      <td>0</td>\n",
       "      <td>0</td>\n",
       "      <td>0</td>\n",
       "      <td>0</td>\n",
       "      <td>0</td>\n",
       "      <td>0</td>\n",
       "      <td>0</td>\n",
       "      <td>0</td>\n",
       "      <td>0</td>\n",
       "      <td>0</td>\n",
       "      <td>...</td>\n",
       "      <td>0</td>\n",
       "      <td>0</td>\n",
       "      <td>0</td>\n",
       "      <td>0</td>\n",
       "      <td>0</td>\n",
       "      <td>0</td>\n",
       "      <td>0</td>\n",
       "      <td>0</td>\n",
       "      <td>0</td>\n",
       "      <td>0</td>\n",
       "    </tr>\n",
       "    <tr>\n",
       "      <th>14637</th>\n",
       "      <td>0</td>\n",
       "      <td>0</td>\n",
       "      <td>0</td>\n",
       "      <td>0</td>\n",
       "      <td>0</td>\n",
       "      <td>0</td>\n",
       "      <td>0</td>\n",
       "      <td>0</td>\n",
       "      <td>0</td>\n",
       "      <td>0</td>\n",
       "      <td>...</td>\n",
       "      <td>0</td>\n",
       "      <td>0</td>\n",
       "      <td>0</td>\n",
       "      <td>0</td>\n",
       "      <td>0</td>\n",
       "      <td>0</td>\n",
       "      <td>0</td>\n",
       "      <td>0</td>\n",
       "      <td>0</td>\n",
       "      <td>0</td>\n",
       "    </tr>\n",
       "    <tr>\n",
       "      <th>14638</th>\n",
       "      <td>0</td>\n",
       "      <td>0</td>\n",
       "      <td>0</td>\n",
       "      <td>0</td>\n",
       "      <td>0</td>\n",
       "      <td>0</td>\n",
       "      <td>0</td>\n",
       "      <td>0</td>\n",
       "      <td>0</td>\n",
       "      <td>0</td>\n",
       "      <td>...</td>\n",
       "      <td>0</td>\n",
       "      <td>0</td>\n",
       "      <td>0</td>\n",
       "      <td>0</td>\n",
       "      <td>0</td>\n",
       "      <td>0</td>\n",
       "      <td>0</td>\n",
       "      <td>0</td>\n",
       "      <td>0</td>\n",
       "      <td>0</td>\n",
       "    </tr>\n",
       "    <tr>\n",
       "      <th>14639</th>\n",
       "      <td>0</td>\n",
       "      <td>0</td>\n",
       "      <td>0</td>\n",
       "      <td>0</td>\n",
       "      <td>0</td>\n",
       "      <td>0</td>\n",
       "      <td>0</td>\n",
       "      <td>0</td>\n",
       "      <td>0</td>\n",
       "      <td>0</td>\n",
       "      <td>...</td>\n",
       "      <td>0</td>\n",
       "      <td>0</td>\n",
       "      <td>0</td>\n",
       "      <td>0</td>\n",
       "      <td>0</td>\n",
       "      <td>0</td>\n",
       "      <td>0</td>\n",
       "      <td>0</td>\n",
       "      <td>0</td>\n",
       "      <td>0</td>\n",
       "    </tr>\n",
       "  </tbody>\n",
       "</table>\n",
       "<p>14640 rows × 8329 columns</p>\n",
       "</div>"
      ],
      "text/plain": [
       "       _exact_  aaaand  aadavantage  aadv  aadvantage  aal  aaron  aback  \\\n",
       "0            0       0            0     0           0    0      0      0   \n",
       "1            0       0            0     0           0    0      0      0   \n",
       "2            0       0            0     0           0    0      0      0   \n",
       "3            0       0            0     0           0    0      0      0   \n",
       "4            0       0            0     0           0    0      0      0   \n",
       "...        ...     ...          ...   ...         ...  ...    ...    ...   \n",
       "14635        0       0            0     0           0    0      0      0   \n",
       "14636        0       0            0     0           0    0      0      0   \n",
       "14637        0       0            0     0           0    0      0      0   \n",
       "14638        0       0            0     0           0    0      0      0   \n",
       "14639        0       0            0     0           0    0      0      0   \n",
       "\n",
       "       abandon  abandoned  ...  zagging  zambia  zero  zig  zip  zipper  zone  \\\n",
       "0            0          0  ...        0       0     0    0    0       0     0   \n",
       "1            0          0  ...        0       0     0    0    0       0     0   \n",
       "2            0          0  ...        0       0     0    0    0       0     0   \n",
       "3            0          0  ...        0       0     0    0    0       0     0   \n",
       "4            0          0  ...        0       0     0    0    0       0     0   \n",
       "...        ...        ...  ...      ...     ...   ...  ...  ...     ...   ...   \n",
       "14635        0          0  ...        0       0     0    0    0       0     0   \n",
       "14636        0          0  ...        0       0     0    0    0       0     0   \n",
       "14637        0          0  ...        0       0     0    0    0       0     0   \n",
       "14638        0          0  ...        0       0     0    0    0       0     0   \n",
       "14639        0          0  ...        0       0     0    0    0       0     0   \n",
       "\n",
       "       zoom  zukes  zurich  \n",
       "0         0      0       0  \n",
       "1         0      0       0  \n",
       "2         0      0       0  \n",
       "3         0      0       0  \n",
       "4         0      0       0  \n",
       "...     ...    ...     ...  \n",
       "14635     0      0       0  \n",
       "14636     0      0       0  \n",
       "14637     0      0       0  \n",
       "14638     0      0       0  \n",
       "14639     0      0       0  \n",
       "\n",
       "[14640 rows x 8329 columns]"
      ]
     },
     "execution_count": 20,
     "metadata": {},
     "output_type": "execute_result"
    }
   ],
   "source": [
    "bow_count_vector_df"
   ]
  },
  {
   "cell_type": "code",
   "execution_count": 21,
   "id": "26d45171-61d9-4237-8261-90a591449a6b",
   "metadata": {},
   "outputs": [],
   "source": [
    "bow_desc_df = bow_count_vector_df.describe()"
   ]
  },
  {
   "cell_type": "code",
   "execution_count": 22,
   "id": "653121da-01b5-43d2-9f80-9f0b72c7cab9",
   "metadata": {},
   "outputs": [
    {
     "name": "stdout",
     "output_type": "stream",
     "text": [
      "TOP 10 WORDS WHICH HAVE THE HIGHEST COUNT in BAG of WORDS:\n"
     ]
    },
    {
     "data": {
      "text/html": [
       "<div>\n",
       "<style scoped>\n",
       "    .dataframe tbody tr th:only-of-type {\n",
       "        vertical-align: middle;\n",
       "    }\n",
       "\n",
       "    .dataframe tbody tr th {\n",
       "        vertical-align: top;\n",
       "    }\n",
       "\n",
       "    .dataframe thead th {\n",
       "        text-align: right;\n",
       "    }\n",
       "</style>\n",
       "<table border=\"1\" class=\"dataframe\">\n",
       "  <thead>\n",
       "    <tr style=\"text-align: right;\">\n",
       "      <th></th>\n",
       "      <th>bow</th>\n",
       "    </tr>\n",
       "  </thead>\n",
       "  <tbody>\n",
       "    <tr>\n",
       "      <th>worst</th>\n",
       "      <td>6.0</td>\n",
       "    </tr>\n",
       "    <tr>\n",
       "      <th>ctl</th>\n",
       "      <td>4.0</td>\n",
       "    </tr>\n",
       "    <tr>\n",
       "      <th>thank</th>\n",
       "      <td>4.0</td>\n",
       "    </tr>\n",
       "    <tr>\n",
       "      <th>bag</th>\n",
       "      <td>4.0</td>\n",
       "    </tr>\n",
       "    <tr>\n",
       "      <th>got</th>\n",
       "      <td>4.0</td>\n",
       "    </tr>\n",
       "    <tr>\n",
       "      <th>hour</th>\n",
       "      <td>4.0</td>\n",
       "    </tr>\n",
       "    <tr>\n",
       "      <th>outsource</th>\n",
       "      <td>4.0</td>\n",
       "    </tr>\n",
       "    <tr>\n",
       "      <th>flight</th>\n",
       "      <td>4.0</td>\n",
       "    </tr>\n",
       "    <tr>\n",
       "      <th>jfk</th>\n",
       "      <td>3.0</td>\n",
       "    </tr>\n",
       "    <tr>\n",
       "      <th>need</th>\n",
       "      <td>3.0</td>\n",
       "    </tr>\n",
       "  </tbody>\n",
       "</table>\n",
       "</div>"
      ],
      "text/plain": [
       "           bow\n",
       "worst      6.0\n",
       "ctl        4.0\n",
       "thank      4.0\n",
       "bag        4.0\n",
       "got        4.0\n",
       "hour       4.0\n",
       "outsource  4.0\n",
       "flight     4.0\n",
       "jfk        3.0\n",
       "need       3.0"
      ]
     },
     "execution_count": 22,
     "metadata": {},
     "output_type": "execute_result"
    }
   ],
   "source": [
    "highest_tf_idf = pd.DataFrame(bow_desc_df.iloc[7])\n",
    "highest_tf_idf.rename(columns = {'max':'bow'}, inplace = True)\n",
    "print(\"TOP 10 WORDS WHICH HAVE THE HIGHEST COUNT in BAG of WORDS:\")\n",
    "highest_tf_idf.sort_values(by=['bow'], ascending=False)[0:10]"
   ]
  },
  {
   "cell_type": "code",
   "execution_count": 23,
   "id": "93bf2587-792d-4d85-aa54-3f80e9f6a116",
   "metadata": {},
   "outputs": [
    {
     "data": {
      "image/png": "[encoded data removed]",
      "text/plain": [
       "<PIL.Image.Image image mode=RGB size=400x200>"
      ]
     },
     "execution_count": 23,
     "metadata": {},
     "output_type": "execute_result"
    }
   ],
   "source": [
    "# Import the wordcloud library\n",
    "from wordcloud import WordCloud\n",
    "\n",
    "# Join the different processed titles together.\n",
    "long_string = ','.join(list(corpus))\n",
    "\n",
    "# Create a WordCloud object\n",
    "wordcloud = WordCloud(background_color=\"white\", max_words=1000, contour_width=3, contour_color='steelblue')\n",
    "\n",
    "# Generate a word cloud\n",
    "wordcloud.generate(long_string)\n",
    "\n",
    "# Visualize the word cloud\n",
    "wordcloud.to_image()"
   ]
  },
  {
   "cell_type": "markdown",
   "id": "7355c3c1-4821-4afa-b1cb-70977d9cc003",
   "metadata": {},
   "source": [
    "### 3.Perform machine learning algorithms to predict sentiment (‘airline_sentiment’ field)."
   ]
  },
  {
   "cell_type": "code",
   "execution_count": 24,
   "id": "05be720d-246b-41c8-8cee-d3fd18048fa6",
   "metadata": {},
   "outputs": [],
   "source": [
    "from sklearn.svm import SVC"
   ]
  },
  {
   "cell_type": "markdown",
   "id": "454eb891-6432-4833-8acd-e8fd1cfff58a",
   "metadata": {},
   "source": [
    "### BOW + NB"
   ]
  },
  {
   "cell_type": "code",
   "execution_count": 25,
   "id": "a49b72a9-9d28-40b0-9057-0298357592e4",
   "metadata": {},
   "outputs": [],
   "source": [
    "\n",
    "text_clf_bow_nb = Pipeline([('vect', CountVectorizer()),                     \n",
    "                     ('clf', MultinomialNB())])\n",
    "\n",
    "tuned_parameters = {\n",
    "    'vect__ngram_range': [(1, 1), (1, 2), (2, 2)],    \n",
    "    'clf__alpha': [1, 1e-1, 1e-2]\n",
    "}"
   ]
  },
  {
   "cell_type": "code",
   "execution_count": 26,
   "id": "977634ec-0a01-4e92-8c1f-9f44e880fff4",
   "metadata": {},
   "outputs": [
    {
     "name": "stdout",
     "output_type": "stream",
     "text": [
      "Score = 0.76\n"
     ]
    }
   ],
   "source": [
    "grid_bow_nb = GridSearchCV(text_clf_bow_nb, cv=10, n_jobs=-1, param_grid=tuned_parameters)\n",
    "\n",
    "grid_bow_nb.fit(X_train, y_train)\n",
    "print (\"Score = %3.2f\" %(grid_bow_nb.score(X_test, y_test)))\n",
    " # print classification report after predicting on test set with best model obtained in GridSearch\n",
    "y_pred = grid_bow_nb.predict(X_test)\n",
    "target_names = ['negative', 'neutral', 'positive']\n",
    "grid_bow_nb_report  = classification_report(y_test, y_pred, target_names=target_names, output_dict=True)"
   ]
  },
  {
   "cell_type": "markdown",
   "id": "1fd3e2bd-222f-471a-9888-2646d1ae4e7f",
   "metadata": {},
   "source": [
    "### BOW + SVC"
   ]
  },
  {
   "cell_type": "code",
   "execution_count": 27,
   "id": "00de4f11-284c-486e-bbbc-0a97bad75e47",
   "metadata": {},
   "outputs": [],
   "source": [
    "\n",
    "text_clf_bow_svc = Pipeline([('vect', CountVectorizer()),\n",
    "                     ('clf', SVC())])\n",
    "tuned_parameters = {\n",
    "    'vect__ngram_range': [(1, 1), (1, 2), (2, 2)],\n",
    "    'clf__C': [.1,10],\n",
    "    'clf__gamma': [1,0.1],\n",
    "    'clf__kernel': ['linear']\n",
    "}"
   ]
  },
  {
   "cell_type": "code",
   "execution_count": 28,
   "id": "7b0610bf-902a-40da-8416-8dc1e2a70656",
   "metadata": {},
   "outputs": [
    {
     "name": "stdout",
     "output_type": "stream",
     "text": [
      "Score = 0.78\n"
     ]
    }
   ],
   "source": [
    "grid_bow_svc = GridSearchCV(text_clf_bow_svc, cv=10, n_jobs=-1, param_grid=tuned_parameters)\n",
    "grid_bow_svc.fit(X_train, y_train)\n",
    "print (\"Score = %3.2f\" %(grid_bow_svc.score(X_test, y_test)))\n",
    " # print classification report after predicting on test set with best model obtained in GridSearch\n",
    "y_pred = grid_bow_svc.predict(X_test)\n",
    "target_names = ['negative', 'neutral', 'positive']\n",
    "grid_bow_svc_report  = classification_report(y_test, y_pred, target_names=target_names, output_dict=True)"
   ]
  },
  {
   "cell_type": "markdown",
   "id": "91822fbc-6213-4a14-aa8f-65c6ff9048bc",
   "metadata": {},
   "source": [
    "### TF_IDF + NB"
   ]
  },
  {
   "cell_type": "code",
   "execution_count": 29,
   "id": "6ffeea2b-f197-488c-99d6-1aa0414c00a1",
   "metadata": {},
   "outputs": [],
   "source": [
    "text_clf_idf_nb = Pipeline([('vect', CountVectorizer()),\n",
    "                     ('tfidf', TfidfTransformer()),\n",
    "                     ('clf', MultinomialNB())])\n",
    "tuned_parameters = {\n",
    "    'tfidf__use_idf': (True, False),\n",
    "    'tfidf__norm': ('l1', 'l2'),\n",
    "    'clf__alpha': [1, 1e-1, 1e-2]\n",
    "}\n"
   ]
  },
  {
   "cell_type": "code",
   "execution_count": 30,
   "id": "c7731dfc-14fc-40d6-9be1-11833c998549",
   "metadata": {},
   "outputs": [
    {
     "name": "stdout",
     "output_type": "stream",
     "text": [
      "Score = 0.75\n"
     ]
    }
   ],
   "source": [
    "grid_tfidf_nb = GridSearchCV(text_clf_idf_nb, cv=10, n_jobs=-1, param_grid=tuned_parameters)\n",
    "grid_tfidf_nb.fit(X_train, y_train)\n",
    "print (\"Score = %3.2f\" %(grid_tfidf_nb.score(X_test, y_test)))\n",
    " # print classification report after predicting on test set with best model obtained in GridSearch\n",
    "y_pred = grid_tfidf_nb.predict(X_test)\n",
    "target_names = ['negative', 'neutral', 'positive']\n",
    "grid_tfidf_nb_report  = classification_report(y_test, y_pred, target_names=target_names, output_dict=True)"
   ]
  },
  {
   "cell_type": "markdown",
   "id": "600bc2cc-dd73-42b4-a4d1-e66bec045ea6",
   "metadata": {},
   "source": [
    "### TF_IDF + SVC"
   ]
  },
  {
   "cell_type": "code",
   "execution_count": 31,
   "id": "e273379e-1415-490a-933d-be064c9c1c34",
   "metadata": {},
   "outputs": [],
   "source": [
    "\n",
    "text_clf_tfidf_svc = Pipeline([('vect', CountVectorizer()),\n",
    "                     ('tfidf', TfidfTransformer()),\n",
    "                     ('clf', SVC())])\n",
    "tuned_parameters = {\n",
    "    'tfidf__use_idf': (True, False),\n",
    "    'tfidf__norm': ('l1', 'l2'),\n",
    "    'clf__C': [.1,10],\n",
    "    'clf__gamma': [1,0.1],\n",
    "    'clf__kernel': ['linear']\n",
    "}"
   ]
  },
  {
   "cell_type": "code",
   "execution_count": 32,
   "id": "b7f1e6ea-551b-4c6b-9f7c-0a666b8ea04f",
   "metadata": {},
   "outputs": [
    {
     "name": "stdout",
     "output_type": "stream",
     "text": [
      "Score = 0.78\n"
     ]
    }
   ],
   "source": [
    "grid_tfidf_svc = GridSearchCV(text_clf_tfidf_svc, cv=10, n_jobs=-1, param_grid=tuned_parameters)\n",
    "grid_tfidf_svc.fit(X_train, y_train)\n",
    "print (\"Score = %3.2f\" %(grid_tfidf_svc.score(X_test, y_test)))\n",
    " # print classification report after predicting on test set with best model obtained in GridSearch\n",
    "y_pred = grid_tfidf_svc.predict(X_test)\n",
    "target_names = ['negative', 'neutral', 'positive']\n",
    "grid_tfidf_svc_report  = classification_report(y_test, y_pred, target_names=target_names, output_dict=True)"
   ]
  },
  {
   "cell_type": "code",
   "execution_count": 33,
   "id": "08ddda19-7bc8-4a5e-8f40-f3dd1d69297b",
   "metadata": {},
   "outputs": [],
   "source": [
    "def getClassificationReport(grid , X_train , y_train):\n",
    "    grid.fit(X_train, y_train)\n",
    "    print (\"Score = %3.2f\" %(grid.score(X_test, y_test)))\n",
    "    # print classification report after predicting on test set with best model obtained in GridSearch\n",
    "    y_pred = grid.predict(X_test)\n",
    "    target_names = ['negative', 'neutral', 'positive']\n",
    "    return classification_report(y_test, y_pred, target_names=target_names)"
   ]
  },
  {
   "cell_type": "markdown",
   "id": "32c2f937-ec37-442c-983e-61ce36c05475",
   "metadata": {},
   "source": [
    "### 4.Plot class-wise precision, recall, and F1-score values for each sentiment class. \n",
    "### Interpret your results."
   ]
  },
  {
   "cell_type": "code",
   "execution_count": 120,
   "id": "a77cb212-4113-4564-ac09-048946e4b761",
   "metadata": {},
   "outputs": [],
   "source": [
    "sentiment=['negative', 'neutral','positive']"
   ]
  },
  {
   "cell_type": "code",
   "execution_count": 127,
   "id": "cad01ece-304b-435b-97f0-033f83fbe142",
   "metadata": {},
   "outputs": [],
   "source": [
    "# function to add method_name in all report\n",
    "\n",
    "arr = ['accuracy','macro avg','weighted avg']\n",
    "def add_methodName_in_obj(dic, method_val):\n",
    "    for obj in dic:\n",
    "        if obj not in arr:\n",
    "            dic.get(obj)['run'] = method_val            "
   ]
  },
  {
   "cell_type": "code",
   "execution_count": 122,
   "id": "9e3d14fe-786a-430f-980b-b677ee865725",
   "metadata": {},
   "outputs": [],
   "source": [
    "add_methodName_in_obj(grid_bow_nb_report, 'NB_BOW'  )\n",
    "add_methodName_in_obj(grid_bow_svc_report, 'SVM_BOW' )\n",
    "add_methodName_in_obj(grid_tfidf_nb_report, 'NB_IDF')\n",
    "add_methodName_in_obj(grid_tfidf_svc_report, 'SVM_IDF')"
   ]
  },
  {
   "cell_type": "code",
   "execution_count": 123,
   "id": "18aa682e-224e-4cf0-9b2c-d84035df2a9d",
   "metadata": {},
   "outputs": [
    {
     "data": {
      "text/plain": [
       "{'negative': {'precision': 0.8051565377532228,\n",
       "  'recall': 0.9341880341880342,\n",
       "  'f1-score': 0.8648862512363996,\n",
       "  'support': 2340,\n",
       "  'run': 'SVM_IDF'},\n",
       " 'neutral': {'precision': 0.6585903083700441,\n",
       "  'recall': 0.4051490514905149,\n",
       "  'f1-score': 0.5016778523489933,\n",
       "  'support': 738,\n",
       "  'run': 'SVM_IDF'},\n",
       " 'positive': {'precision': 0.7739307535641547,\n",
       "  'recall': 0.6529209621993127,\n",
       "  'f1-score': 0.7082945013979497,\n",
       "  'support': 582,\n",
       "  'run': 'SVM_IDF'},\n",
       " 'accuracy': 0.7827868852459017,\n",
       " 'macro avg': {'precision': 0.7458925332291405,\n",
       "  'recall': 0.6640860159592873,\n",
       "  'f1-score': 0.6916195349944476,\n",
       "  'support': 3660},\n",
       " 'weighted avg': {'precision': 0.7706376077852383,\n",
       "  'recall': 0.7827868852459017,\n",
       "  'f1-score': 0.7667484925520051,\n",
       "  'support': 3660}}"
      ]
     },
     "execution_count": 123,
     "metadata": {},
     "output_type": "execute_result"
    }
   ],
   "source": [
    "grid_tfidf_svc_report"
   ]
  },
  {
   "cell_type": "code",
   "execution_count": 124,
   "id": "dd8dea8d-2342-452c-af9a-1666d9d08e45",
   "metadata": {},
   "outputs": [],
   "source": [
    "all_report = [grid_bow_nb_report, grid_bow_svc_report, grid_tfidf_nb_report, grid_tfidf_svc_report]"
   ]
  },
  {
   "cell_type": "code",
   "execution_count": 126,
   "id": "83781eb4-f630-43ab-a344-40c93ca062f9",
   "metadata": {},
   "outputs": [],
   "source": [
    "\"\"\"\"\"'negative': {'precision': 0.8133802816901409,\n",
    "  'recall': 0.8884615384615384,\n",
    "  'f1-score': 0.8492647058823528,\n",
    "  'support': 2340,\n",
    "  'run': 'NB_BOW'}\"\"\"\"\"\n",
    "def generate_data_for_graph(dic,sent):\n",
    "    row = {'class': sent ,\n",
    "            'precision': dic.get(sent).get('precision'),\n",
    "            'recall': dic.get(sent).get('recall'),\t\n",
    "            'f1score': dic.get(sent).get('f1-score'),\t\n",
    "            'run':  dic.get(sent).get('run')}\n",
    "    return row"
   ]
  },
  {
   "cell_type": "code",
   "execution_count": 125,
   "id": "42cad472-abc7-4030-a046-bbb4edfafde6",
   "metadata": {},
   "outputs": [
    {
     "data": {
      "text/html": [
       "<div>\n",
       "<style scoped>\n",
       "    .dataframe tbody tr th:only-of-type {\n",
       "        vertical-align: middle;\n",
       "    }\n",
       "\n",
       "    .dataframe tbody tr th {\n",
       "        vertical-align: top;\n",
       "    }\n",
       "\n",
       "    .dataframe thead th {\n",
       "        text-align: right;\n",
       "    }\n",
       "</style>\n",
       "<table border=\"1\" class=\"dataframe\">\n",
       "  <thead>\n",
       "    <tr style=\"text-align: right;\">\n",
       "      <th></th>\n",
       "      <th>class</th>\n",
       "      <th>precision</th>\n",
       "      <th>recall</th>\n",
       "      <th>f1score</th>\n",
       "      <th>run</th>\n",
       "    </tr>\n",
       "  </thead>\n",
       "  <tbody>\n",
       "    <tr>\n",
       "      <th>0</th>\n",
       "      <td>negative</td>\n",
       "      <td>0.813380</td>\n",
       "      <td>0.888462</td>\n",
       "      <td>0.849265</td>\n",
       "      <td>NB_BOW</td>\n",
       "    </tr>\n",
       "    <tr>\n",
       "      <th>1</th>\n",
       "      <td>neutral</td>\n",
       "      <td>0.559122</td>\n",
       "      <td>0.448509</td>\n",
       "      <td>0.497744</td>\n",
       "      <td>NB_BOW</td>\n",
       "    </tr>\n",
       "    <tr>\n",
       "      <th>2</th>\n",
       "      <td>positive</td>\n",
       "      <td>0.720703</td>\n",
       "      <td>0.634021</td>\n",
       "      <td>0.674589</td>\n",
       "      <td>NB_BOW</td>\n",
       "    </tr>\n",
       "    <tr>\n",
       "      <th>3</th>\n",
       "      <td>negative</td>\n",
       "      <td>0.822506</td>\n",
       "      <td>0.908974</td>\n",
       "      <td>0.863581</td>\n",
       "      <td>SVM_BOW</td>\n",
       "    </tr>\n",
       "    <tr>\n",
       "      <th>4</th>\n",
       "      <td>neutral</td>\n",
       "      <td>0.627551</td>\n",
       "      <td>0.500000</td>\n",
       "      <td>0.556561</td>\n",
       "      <td>SVM_BOW</td>\n",
       "    </tr>\n",
       "    <tr>\n",
       "      <th>5</th>\n",
       "      <td>positive</td>\n",
       "      <td>0.738683</td>\n",
       "      <td>0.616838</td>\n",
       "      <td>0.672285</td>\n",
       "      <td>SVM_BOW</td>\n",
       "    </tr>\n",
       "    <tr>\n",
       "      <th>6</th>\n",
       "      <td>negative</td>\n",
       "      <td>0.764464</td>\n",
       "      <td>0.954274</td>\n",
       "      <td>0.848888</td>\n",
       "      <td>NB_IDF</td>\n",
       "    </tr>\n",
       "    <tr>\n",
       "      <th>7</th>\n",
       "      <td>neutral</td>\n",
       "      <td>0.608696</td>\n",
       "      <td>0.322493</td>\n",
       "      <td>0.421612</td>\n",
       "      <td>NB_IDF</td>\n",
       "    </tr>\n",
       "    <tr>\n",
       "      <th>8</th>\n",
       "      <td>positive</td>\n",
       "      <td>0.833333</td>\n",
       "      <td>0.498282</td>\n",
       "      <td>0.623656</td>\n",
       "      <td>NB_IDF</td>\n",
       "    </tr>\n",
       "    <tr>\n",
       "      <th>9</th>\n",
       "      <td>negative</td>\n",
       "      <td>0.805157</td>\n",
       "      <td>0.934188</td>\n",
       "      <td>0.864886</td>\n",
       "      <td>SVM_IDF</td>\n",
       "    </tr>\n",
       "    <tr>\n",
       "      <th>10</th>\n",
       "      <td>neutral</td>\n",
       "      <td>0.658590</td>\n",
       "      <td>0.405149</td>\n",
       "      <td>0.501678</td>\n",
       "      <td>SVM_IDF</td>\n",
       "    </tr>\n",
       "    <tr>\n",
       "      <th>11</th>\n",
       "      <td>positive</td>\n",
       "      <td>0.773931</td>\n",
       "      <td>0.652921</td>\n",
       "      <td>0.708295</td>\n",
       "      <td>SVM_IDF</td>\n",
       "    </tr>\n",
       "  </tbody>\n",
       "</table>\n",
       "</div>"
      ],
      "text/plain": [
       "       class  precision    recall   f1score      run\n",
       "0   negative   0.813380  0.888462  0.849265   NB_BOW\n",
       "1    neutral   0.559122  0.448509  0.497744   NB_BOW\n",
       "2   positive   0.720703  0.634021  0.674589   NB_BOW\n",
       "3   negative   0.822506  0.908974  0.863581  SVM_BOW\n",
       "4    neutral   0.627551  0.500000  0.556561  SVM_BOW\n",
       "5   positive   0.738683  0.616838  0.672285  SVM_BOW\n",
       "6   negative   0.764464  0.954274  0.848888   NB_IDF\n",
       "7    neutral   0.608696  0.322493  0.421612   NB_IDF\n",
       "8   positive   0.833333  0.498282  0.623656   NB_IDF\n",
       "9   negative   0.805157  0.934188  0.864886  SVM_IDF\n",
       "10   neutral   0.658590  0.405149  0.501678  SVM_IDF\n",
       "11  positive   0.773931  0.652921  0.708295  SVM_IDF"
      ]
     },
     "execution_count": 125,
     "metadata": {},
     "output_type": "execute_result"
    }
   ],
   "source": [
    "# Preparing data frame for graph generation\n",
    "rows = []\n",
    "for report in all_report:     \n",
    "    for sent in sentiment:   \n",
    "        rows.append(generate_data_for_graph(report, sent))    \n",
    "    \n",
    "df_for_graph = pd.DataFrame(rows)\n",
    "df_for_graph    "
   ]
  },
  {
   "cell_type": "markdown",
   "id": "4867023b-58a6-4935-a09a-62e6e8a21780",
   "metadata": {},
   "source": [
    "### Precision Bar Chart"
   ]
  },
  {
   "cell_type": "code",
   "execution_count": 117,
   "id": "c0167988-f19b-4d3a-96d3-68f7605fadbe",
   "metadata": {},
   "outputs": [
    {
     "data": {
      "text/plain": [
       "<AxesSubplot:xlabel='class', ylabel='precision'>"
      ]
     },
     "execution_count": 117,
     "metadata": {},
     "output_type": "execute_result"
    },
    {
     "data": {
      "image/png": "[encoded data removed]",
      "text/plain": [
       "<Figure size 432x288 with 1 Axes>"
      ]
     },
     "metadata": {
      "needs_background": "light"
     },
     "output_type": "display_data"
    }
   ],
   "source": [
    "sns.barplot(data = df_for_graph, x=\"class\", y = \"precision\", order=['neutral', 'positive', 'negative'], hue=df_for_graph[\"run\"],)\n"
   ]
  },
  {
   "cell_type": "markdown",
   "id": "6121fab7-361b-43c8-a269-3f849ce9543e",
   "metadata": {},
   "source": [
    "### Recall Bar Chart"
   ]
  },
  {
   "cell_type": "code",
   "execution_count": 118,
   "id": "519b492f-34a4-498b-b08a-d5a752956e93",
   "metadata": {},
   "outputs": [
    {
     "data": {
      "text/plain": [
       "<AxesSubplot:xlabel='class', ylabel='recall'>"
      ]
     },
     "execution_count": 118,
     "metadata": {},
     "output_type": "execute_result"
    },
    {
     "data": {
      "image/png": "[encoded data removed]",
      "text/plain": [
       "<Figure size 432x288 with 1 Axes>"
      ]
     },
     "metadata": {
      "needs_background": "light"
     },
     "output_type": "display_data"
    }
   ],
   "source": [
    "sns.barplot(data = df_for_graph, x=\"class\", y = \"recall\", order=['neutral', 'positive', 'negative'], hue=df_for_graph[\"run\"],)\n"
   ]
  },
  {
   "cell_type": "markdown",
   "id": "487e379d-e5d6-4878-88f8-a9824906feed",
   "metadata": {},
   "source": [
    "### f1score Bar Chart"
   ]
  },
  {
   "cell_type": "code",
   "execution_count": 119,
   "id": "d5122ac1-0321-4468-894e-a46223e8c2e2",
   "metadata": {},
   "outputs": [
    {
     "data": {
      "text/plain": [
       "<AxesSubplot:xlabel='class', ylabel='f1score'>"
      ]
     },
     "execution_count": 119,
     "metadata": {},
     "output_type": "execute_result"
    },
    {
     "data": {
      "image/png": "[encoded data removed]",
      "text/plain": [
       "<Figure size 432x288 with 1 Axes>"
      ]
     },
     "metadata": {
      "needs_background": "light"
     },
     "output_type": "display_data"
    }
   ],
   "source": [
    "sns.barplot(data = df_for_graph, x=\"class\", y = \"f1score\", order=['neutral', 'positive', 'negative'], hue=df_for_graph[\"run\"],)\n"
   ]
  },
  {
   "cell_type": "markdown",
   "id": "719096f7-b833-423f-8f95-0e9eade9eee6",
   "metadata": {},
   "source": [
    "##### Interpretation:"
   ]
  },
  {
   "cell_type": "markdown",
   "id": "7a7b204d-efb0-4a60-a1ae-01a72d5df7dc",
   "metadata": {},
   "source": [
    "#####  All approaches most correctly identifying as negative sentiment. Almost all the models are giving 75-78% accuracy. We can check more details using confusion matrix for getting more accurate result there are more number of Negative comments than Neutal or Positive in the Tweets\n",
    "\n"
   ]
  },
  {
   "cell_type": "code",
   "execution_count": null,
   "id": "c7c4b525-08b5-48b7-852a-69c888beaa08",
   "metadata": {},
   "outputs": [],
   "source": []
  }
 ],
 "metadata": {
  "kernelspec": {
   "display_name": "Python 3 (ipykernel)",
   "language": "python",
   "name": "python3"
  },
  "language_info": {
   "codemirror_mode": {
    "name": "ipython",
    "version": 3
   },
   "file_extension": ".py",
   "mimetype": "text/x-python",
   "name": "python",
   "nbconvert_exporter": "python",
   "pygments_lexer": "ipython3",
   "version": "3.9.12"
  }
 },
 "nbformat": 4,
 "nbformat_minor": 5
}
